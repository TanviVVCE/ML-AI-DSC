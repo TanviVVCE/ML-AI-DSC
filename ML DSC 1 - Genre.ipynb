{
 "cells": [
  {
   "cell_type": "code",
   "execution_count": null,
   "metadata": {},
   "outputs": [],
   "source": [
    "thriller = [\"Dark\",\"Mindhunter\",\"Parasite\",\"Inception\",\"Insidious\",\"Interstellar\",\"Prison Break\",\"Money Heist\",\"War\",\"Jack Ryan\"]\n",
    "comedy = [\"Friends\",\"3 Idiots\",\"Brooklyn 99\",\"How I met Your Mother\",\"Rick And Morty\",\"The Big Bang Theory\",\"The Office\",\"Space Force\"]\n",
    "x=input(\"Whats your favorite movie or series to binge on?\").lower()\n",
    "finthril=0\n",
    "fincom=0\n",
    "for i in thriller :\n",
    "    if x==i.lower() :\n",
    "        finthril=1\n",
    "        print(\"It is Thriller\")\n",
    "for g in comedy :\n",
    "    if x==g.lower() :\n",
    "        fincom=1\n",
    "        print(\"It is Comedy\")\n",
    "if finthril==0 and fincom==0:\n",
    "    print(\"Its neither thriller nor comedy\")\n",
    "    \n",
    "    "
   ]
  },
  {
   "cell_type": "code",
   "execution_count": null,
   "metadata": {},
   "outputs": [],
   "source": []
  }
 ],
 "metadata": {
  "kernelspec": {
   "display_name": "Python 3",
   "language": "python",
   "name": "python3"
  },
  "language_info": {
   "codemirror_mode": {
    "name": "ipython",
    "version": 3
   },
   "file_extension": ".py",
   "mimetype": "text/x-python",
   "name": "python",
   "nbconvert_exporter": "python",
   "pygments_lexer": "ipython3",
   "version": "3.7.6"
  }
 },
 "nbformat": 4,
 "nbformat_minor": 4
}
