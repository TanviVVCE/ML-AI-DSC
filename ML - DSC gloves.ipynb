{
 "cells": [
  {
   "cell_type": "code",
   "execution_count": null,
   "metadata": {},
   "outputs": [],
   "source": [
    "n=int(input(\"Enter the number of gloves\"))\n",
    "tp=0\n",
    "m=1\n",
    "l1=[]\n",
    "p=0\n",
    "print(\"Enter the gloves\")\n",
    "for i in range(0,n):\n",
    "    ele=int(input())\n",
    "    l1.append(ele)\n",
    "print(l1)\n",
    "for i in range(0,len(l1)):\n",
    "    if l1[i]!=0.5:\n",
    "        for j in range(i+1,len(l1)):\n",
    "            if l1[i]==l1[j]:\n",
    "                m=m+1\n",
    "                l1[j]=0.5\n",
    "    p=int(m/2)\n",
    "    tp=tp+p\n",
    "    p=0\n",
    "    m=1\n",
    "print(\"The total Pairs of gloves are:\",tp)"
   ]
  }
 ],
 "metadata": {
  "kernelspec": {
   "display_name": "Python 3",
   "language": "python",
   "name": "python3"
  },
  "language_info": {
   "codemirror_mode": {
    "name": "ipython",
    "version": 3
   },
   "file_extension": ".py",
   "mimetype": "text/x-python",
   "name": "python",
   "nbconvert_exporter": "python",
   "pygments_lexer": "ipython3",
   "version": "3.7.6"
  }
 },
 "nbformat": 4,
 "nbformat_minor": 4
}
